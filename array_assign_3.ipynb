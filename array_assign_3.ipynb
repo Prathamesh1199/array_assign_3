{
  "metadata": {
    "language_info": {
      "codemirror_mode": {
        "name": "python",
        "version": 3
      },
      "file_extension": ".py",
      "mimetype": "text/x-python",
      "name": "python",
      "nbconvert_exporter": "python",
      "pygments_lexer": "ipython3",
      "version": "3.8"
    },
    "kernelspec": {
      "name": "python",
      "display_name": "Python (Pyodide)",
      "language": "python"
    }
  },
  "nbformat_minor": 4,
  "nbformat": 4,
  "cells": [
    {
      "cell_type": "markdown",
      "source": "1:Given an integer array nums of length n and an integer target, find three integers\nin nums such that the sum is closest to the target.\nReturn the sum of the three integers.",
      "metadata": {}
    },
    {
      "cell_type": "code",
      "source": "def threeSumClosest(nums, target):\n    nums.sort()\n    n = len(nums)\n    closestSum = float('inf')\n\n    for i in range(n - 2):\n        left = i + 1\n        right = n - 1\n\n        while left < right:\n            currentSum = nums[i] + nums[left] + nums[right]\n            if currentSum == target:\n                return target\n            elif abs(currentSum - target) < abs(closestSum - target):\n                closestSum = currentSum\n\n            if currentSum < target:\n                left += 1\n            else:\n                right -= 1\n\n    return closestSum\n",
      "metadata": {
        "trusted": true
      },
      "execution_count": 1,
      "outputs": []
    },
    {
      "cell_type": "code",
      "source": "#Using the example\nnums = [-1, 2, 1, -4]\ntarget = 1\nresult = threeSumClosest(nums, target)\nprint(result)\n",
      "metadata": {
        "trusted": true
      },
      "execution_count": 2,
      "outputs": [
        {
          "name": "stdout",
          "text": "2\n",
          "output_type": "stream"
        }
      ]
    },
    {
      "cell_type": "code",
      "source": "",
      "metadata": {},
      "execution_count": null,
      "outputs": []
    },
    {
      "cell_type": "markdown",
      "source": "2:Given an array nums of n integers, return an array of all the unique quadruplets\n[nums[a], nums[b], nums[c], nums[d]] such that:\n           ● 0 <= a, b, c, d < n\n           ● a, b, c, and d are distinct.\n           ● nums[a] + nums[b] + nums[c] + nums[d] == target",
      "metadata": {}
    },
    {
      "cell_type": "code",
      "source": "def fourSum(nums, target):\n    nums.sort()\n    n = len(nums)\n    result = []\n\n    for a in range(n-3):\n        if a > 0 and nums[a] == nums[a-1]:\n            continue\n\n        for b in range(a+1, n-2):\n            if b > a+1 and nums[b] == nums[b-1]:\n                continue\n\n            left = b+1\n            right = n-1\n\n            while left < right:\n                curr_sum = nums[a] + nums[b] + nums[left] + nums[right]\n\n                if curr_sum == target:\n                    result.append([nums[a], nums[b], nums[left], nums[right]])\n\n                    while left < right and nums[left] == nums[left+1]:\n                        left += 1\n                    while left < right and nums[right] == nums[right-1]:\n                        right -= 1\n\n                    left += 1\n                    right -= 1\n                elif curr_sum < target:\n                    left += 1\n                else:\n                    right -= 1\n\n    return result\n",
      "metadata": {
        "trusted": true
      },
      "execution_count": 3,
      "outputs": []
    },
    {
      "cell_type": "code",
      "source": "#Using the given example:\nnums = [1, 0, -1, 0, -2, 2]\ntarget = 0\nresult = fourSum(nums, target)\nprint(result)\n",
      "metadata": {
        "trusted": true
      },
      "execution_count": 7,
      "outputs": [
        {
          "name": "stdout",
          "text": "[[-2, -1, 1, 2], [-2, 0, 0, 2], [-1, 0, 0, 1]]\n",
          "output_type": "stream"
        }
      ]
    },
    {
      "cell_type": "code",
      "source": "",
      "metadata": {},
      "execution_count": null,
      "outputs": []
    },
    {
      "cell_type": "markdown",
      "source": "3:\n💡 A permutation of an array of integers is an arrangement of its members into a\nsequence or linear order.\n\nFor example, for arr = [1,2,3], the following are all the permutations of arr:\n[1,2,3], [1,3,2], [2, 1, 3], [2, 3, 1], [3,1,2], [3,2,1].\n\nThe next permutation of an array of integers is the next lexicographically greater\npermutation of its integer. More formally, if all the permutations of the array are\nsorted in one container according to their lexicographical order, then the next\npermutation of that array is the permutation that follows it in the sorted container.\n\nIf such an arrangement is not possible, the array must be rearranged as the\nlowest possible order (i.e., sorted in ascending order).\n\n● For example, the next permutation of arr = [1,2,3] is [1,3,2].\n● Similarly, the next permutation of arr = [2,3,1] is [3,1,2].\n● While the next permutation of arr = [3,2,1] is [1,2,3] because [3,2,1] does not\nhave a lexicographical larger rearrangement.\n\nGiven an array of integers nums, find the next permutation of nums.\nThe replacement must be in place and use only constant extra memory.\n\n**Example 1:**\nInput: nums = [1,2,3]\nOutput: [1,3,2]\n",
      "metadata": {}
    },
    {
      "cell_type": "code",
      "source": "def nextPermutation(nums):\n    n = len(nums)\n\n    # Find the first pair (i, i+1) from the right where nums[i] < nums[i+1]\n    i = n - 2\n    while i >= 0 and nums[i] >= nums[i+1]:\n        i -= 1\n\n    if i >= 0:\n        # Find the smallest element in the subarray nums[i+1:] that is greater than nums[i]\n        j = n - 1\n        while j > i and nums[j] <= nums[i]:\n            j -= 1\n\n        # Swap nums[i] and nums[j]\n        nums[i], nums[j] = nums[j], nums[i]\n\n    # Reverse the subarray nums[i+1:]\n    left = i + 1\n    right = n - 1\n    while left < right:\n        nums[left], nums[right] = nums[right], nums[left]\n        left += 1\n        right -= 1\n\n    return nums\n",
      "metadata": {
        "trusted": true
      },
      "execution_count": 5,
      "outputs": []
    },
    {
      "cell_type": "code",
      "source": "#Using the given example:\nnums = [1, 2, 3]\nresult = nextPermutation(nums)\nprint(result)\n",
      "metadata": {
        "trusted": true
      },
      "execution_count": 8,
      "outputs": [
        {
          "name": "stdout",
          "text": "[1, 3, 2]\n",
          "output_type": "stream"
        }
      ]
    },
    {
      "cell_type": "code",
      "source": "",
      "metadata": {},
      "execution_count": null,
      "outputs": []
    },
    {
      "cell_type": "markdown",
      "source": "4:Given a sorted array of distinct integers and a target value, return the index if the\ntarget is found. If not, return the index where it would be if it were inserted in\norder.\n\nYou must write an algorithm with O(log n) runtime complexity.\n\nExample 1:\nInput: nums = [1,3,5,6], target = 5\nOutput: 2",
      "metadata": {}
    },
    {
      "cell_type": "code",
      "source": "def searchInsert(nums, target):\n    left = 0\n    right = len(nums) - 1\n\n    while left <= right:\n        mid = (left + right) // 2\n\n        if nums[mid] == target:\n            return mid\n        elif nums[mid] < target:\n            left = mid + 1\n        else:\n            right = mid - 1\n\n    return left\n",
      "metadata": {
        "trusted": true
      },
      "execution_count": 9,
      "outputs": []
    },
    {
      "cell_type": "code",
      "source": "#Using the given example:\nnums = [1, 3, 5, 6]\ntarget = 5\nresult = searchInsert(nums, target)\nprint(result)\n    ",
      "metadata": {
        "trusted": true
      },
      "execution_count": 10,
      "outputs": [
        {
          "name": "stdout",
          "text": "2\n",
          "output_type": "stream"
        }
      ]
    },
    {
      "cell_type": "code",
      "source": "",
      "metadata": {},
      "execution_count": null,
      "outputs": []
    },
    {
      "cell_type": "markdown",
      "source": "5:<aside>\n💡 You are given a large integer represented as an integer array digits, where each\ndigits[i] is the ith digit of the integer. The digits are ordered from most significant\nto least significant in left-to-right order. The large integer does not contain any\nleading 0's.\n\nIncrement the large integer by one and return the resulting array of digits.\n\n**Example 1:**\nInput: digits = [1,2,3]\nOutput: [1,2,4]\n\n**Explanation:** The array represents the integer 123.\nIncrementing by one gives 123 + 1 = 124.\nThus, the result should be [1,2,4].\n\n</aside>",
      "metadata": {}
    },
    {
      "cell_type": "code",
      "source": "def plusOne(digits):\n    n = len(digits)\n    carry = 1\n\n    for i in range(n-1, -1, -1):\n        sum = digits[i] + carry\n        digits[i] = sum % 10\n        carry = sum // 10\n\n        if carry == 0:\n            break\n\n    if carry != 0:\n        digits.insert(0, carry)\n\n    return digits\n",
      "metadata": {
        "trusted": true
      },
      "execution_count": 11,
      "outputs": []
    },
    {
      "cell_type": "code",
      "source": "#Using the given example:\n\ndigits = [1, 2, 3]\nresult = plusOne(digits)\nprint(result)\n",
      "metadata": {
        "trusted": true
      },
      "execution_count": 12,
      "outputs": [
        {
          "name": "stdout",
          "text": "[1, 2, 4]\n",
          "output_type": "stream"
        }
      ]
    },
    {
      "cell_type": "code",
      "source": "",
      "metadata": {},
      "execution_count": null,
      "outputs": []
    },
    {
      "cell_type": "markdown",
      "source": "6:\nGiven a non-empty array of integers nums, every element appears twice except\nfor one. Find that single one.\n\nYou must implement a solution with a linear runtime complexity and use only\nconstant extra space.\n\nExample 1:\nInput: nums = [2,2,1]\nOutput: 1",
      "metadata": {}
    },
    {
      "cell_type": "code",
      "source": "def singleNumber(nums):\n    result = 0\n\n    for num in nums:\n        result ^= num\n\n    return result\n",
      "metadata": {
        "trusted": true
      },
      "execution_count": 13,
      "outputs": []
    },
    {
      "cell_type": "code",
      "source": "#Using the given example:\nnums = [2, 2, 1]\nresult = singleNumber(nums)\nprint(result)",
      "metadata": {
        "trusted": true
      },
      "execution_count": 14,
      "outputs": [
        {
          "name": "stdout",
          "text": "1\n",
          "output_type": "stream"
        }
      ]
    },
    {
      "cell_type": "code",
      "source": "",
      "metadata": {},
      "execution_count": null,
      "outputs": []
    },
    {
      "cell_type": "markdown",
      "source": "7:You are given an inclusive range [lower, upper] and a sorted unique integer array\nnums, where all elements are within the inclusive range.\n\nA number x is considered missing if x is in the range [lower, upper] and x is not in\nnums.\n\nReturn the shortest sorted list of ranges that exactly covers all the missing\nnumbers. That is, no element of nums is included in any of the ranges, and each\nmissing number is covered by one of the ranges.\n\nExample 1:\nInput: nums = [0,1,3,50,75], lower = 0, upper = 99\nOutput: [[2,2],[4,49],[51,74],[76,99]]\n\nExplanation: The ranges are:\n[2,2]\n[4,49]\n[51,74]\n[76,99]",
      "metadata": {}
    },
    {
      "cell_type": "code",
      "source": "def findMissingRanges(nums, lower, upper):\n    result = []\n    prev = lower - 1\n\n    for num in nums:\n        if num == prev + 1:\n            prev = num\n        elif num > prev + 1:\n            result.append(getRange(prev + 1, num - 1))\n            prev = num\n\n    if prev < upper:\n        result.append(getRange(prev + 1, upper))\n\n    return result\n\n\ndef getRange(start, end):\n    if start == end:\n        return str(start)\n    else:\n        return str(start) + \"->\" + str(end)\n",
      "metadata": {
        "trusted": true
      },
      "execution_count": 15,
      "outputs": []
    },
    {
      "cell_type": "code",
      "source": "nums = [0, 1, 3, 50, 75]\nlower = 0\nupper = 99\nresult = findMissingRanges(nums, lower, upper)\nprint(result)\n",
      "metadata": {
        "trusted": true
      },
      "execution_count": 16,
      "outputs": [
        {
          "name": "stdout",
          "text": "['2', '4->49', '51->74', '76->99']\n",
          "output_type": "stream"
        }
      ]
    },
    {
      "cell_type": "code",
      "source": "",
      "metadata": {},
      "execution_count": null,
      "outputs": []
    },
    {
      "cell_type": "markdown",
      "source": "8:Given an array of meeting time intervals where intervals[i] = [starti, endi],\ndetermine if a person could attend all meetings.\n\nExample 1:\nInput: intervals = [[0,30],[5,10],[15,20]]\nOutput: false",
      "metadata": {}
    },
    {
      "cell_type": "code",
      "source": "def canAttendMeetings(intervals):\n    intervals.sort(key=lambda x: x[0])\n\n    for i in range(1, len(intervals)):\n        if intervals[i][0] < intervals[i-1][1]:\n            return False\n\n    return True\n",
      "metadata": {
        "trusted": true
      },
      "execution_count": 17,
      "outputs": []
    },
    {
      "cell_type": "code",
      "source": "#Using the given example:\nintervals = [[0, 30], [5, 10], [15, 20]]\nresult = canAttendMeetings(intervals)\nprint(result)\n    ",
      "metadata": {
        "trusted": true
      },
      "execution_count": 18,
      "outputs": [
        {
          "name": "stdout",
          "text": "False\n",
          "output_type": "stream"
        }
      ]
    },
    {
      "cell_type": "code",
      "source": "",
      "metadata": {},
      "execution_count": null,
      "outputs": []
    },
    {
      "cell_type": "code",
      "source": "",
      "metadata": {},
      "execution_count": null,
      "outputs": []
    },
    {
      "cell_type": "code",
      "source": "",
      "metadata": {},
      "execution_count": null,
      "outputs": []
    },
    {
      "cell_type": "code",
      "source": "",
      "metadata": {},
      "execution_count": null,
      "outputs": []
    }
  ]
}